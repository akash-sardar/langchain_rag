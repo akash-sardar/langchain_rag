{
 "cells": [
  {
   "cell_type": "code",
   "execution_count": 32,
   "metadata": {},
   "outputs": [],
   "source": [
    "# Misc\n",
    "import numpy as np\n",
    "import os\n",
    "from dotenv import load_dotenv\n",
    "load_dotenv()\n",
    "os.environ[\"HUGGINGFACEHUB_API_TOKEN\"] = os.getenv(\"HUGGINGFACEHUB_API_TOKEN\")"
   ]
  },
  {
   "cell_type": "code",
   "execution_count": 1,
   "metadata": {},
   "outputs": [],
   "source": [
    "# Data Ingestion\n",
    "from langchain_community.document_loaders import PyPDFLoader\n",
    "from langchain_community.document_loaders import PyPDFDirectoryLoader\n"
   ]
  },
  {
   "cell_type": "code",
   "execution_count": 2,
   "metadata": {},
   "outputs": [],
   "source": [
    "# Data Transformation\n",
    "from langchain.text_splitter import RecursiveCharacterTextSplitter"
   ]
  },
  {
   "cell_type": "code",
   "execution_count": 3,
   "metadata": {},
   "outputs": [],
   "source": [
    "# Embedding Layer\n",
    "from langchain_community.vectorstores import FAISS"
   ]
  },
  {
   "cell_type": "code",
   "execution_count": 55,
   "metadata": {},
   "outputs": [],
   "source": [
    "# Hugging Face Models\n",
    "from langchain_community.embeddings import HuggingFaceBgeEmbeddings\n",
    "from langchain_community.llms import HuggingFaceHub\n",
    "from langchain_community.llms.huggingface_pipeline import HuggingFacePipeline"
   ]
  },
  {
   "cell_type": "code",
   "execution_count": 5,
   "metadata": {},
   "outputs": [],
   "source": [
    "# Get prompt template\n",
    "from langchain.prompts import PromptTemplate"
   ]
  },
  {
   "cell_type": "code",
   "execution_count": 6,
   "metadata": {},
   "outputs": [],
   "source": [
    "# Import QA Chain\n",
    "from langchain.chains import RetrievalQA"
   ]
  },
  {
   "cell_type": "code",
   "execution_count": 12,
   "metadata": {},
   "outputs": [],
   "source": [
    "# Data Ingestion\n",
    "loader = PyPDFDirectoryLoader(\"./us_census\")\n",
    "documents = loader.load()\n"
   ]
  },
  {
   "cell_type": "code",
   "execution_count": 13,
   "metadata": {},
   "outputs": [
    {
     "data": {
      "text/plain": [
       "Document(page_content='Health Insurance Coverage Status and Type \\nby Geography: 2021 and 2022\\nAmerican Community Survey Briefs\\nACSBR-015Issued September 2023Douglas Conway and Breauna Branch\\nINTRODUCTION\\nDemographic shifts as well as economic and govern-\\nment policy changes can affect people’s access to health coverage. For example, between 2021 and 2022, the labor market continued to improve, which may have affected private coverage in the United States \\nduring that time.\\n1 Public policy changes included \\nthe renewal of the Public Health Emergency, which \\nallowed Medicaid enrollees to remain covered under the Continuous Enrollment Provision.\\n2 The American \\nRescue Plan (ARP) enhanced Marketplace premium subsidies for those with incomes above 400 percent of the poverty level as well as for unemployed people.\\n3', metadata={'source': 'us_census\\\\acsbr-015.pdf', 'page': 0})"
      ]
     },
     "execution_count": 13,
     "metadata": {},
     "output_type": "execute_result"
    }
   ],
   "source": [
    "# Data Transformation\n",
    "text_splitter = RecursiveCharacterTextSplitter(chunk_size = 1000, chunk_overlap = 200)\n",
    "final_documents = text_splitter.split_documents(documents)\n",
    "final_documents[0]"
   ]
  },
  {
   "cell_type": "code",
   "execution_count": 15,
   "metadata": {},
   "outputs": [
    {
     "data": {
      "text/plain": [
       "316"
      ]
     },
     "execution_count": 15,
     "metadata": {},
     "output_type": "execute_result"
    }
   ],
   "source": [
    "len(final_documents)\n"
   ]
  },
  {
   "cell_type": "code",
   "execution_count": 18,
   "metadata": {},
   "outputs": [],
   "source": [
    "# Embedding using HuggingFace\n",
    "huggingface_embeddings = HuggingFaceBgeEmbeddings(\n",
    "    model_name = \"BAAI/bge-small-en-v1.5\",  # or use sent trf sentence-transformers/all-MiniLM-l6-v2\n",
    "    model_kwargs = {'device':'cpu'},\n",
    "    encode_kwargs = {'normalize_embeddings' : True}\n",
    ")"
   ]
  },
  {
   "cell_type": "code",
   "execution_count": 24,
   "metadata": {},
   "outputs": [
    {
     "data": {
      "text/plain": [
       "(384,)"
      ]
     },
     "execution_count": 24,
     "metadata": {},
     "output_type": "execute_result"
    }
   ],
   "source": [
    "np.array(huggingface_embeddings.embed_query(final_documents[0].page_content)).shape"
   ]
  },
  {
   "cell_type": "code",
   "execution_count": 26,
   "metadata": {},
   "outputs": [],
   "source": [
    "# Vector Store Creation\n",
    "vectorstore = FAISS.from_documents(final_documents, huggingface_embeddings)"
   ]
  },
  {
   "cell_type": "code",
   "execution_count": 30,
   "metadata": {},
   "outputs": [
    {
     "name": "stdout",
     "output_type": "stream",
     "text": [
      "4 U.S. Census Bureau\n",
      "to the ACS (Table 1). Real median \n",
      "household income in the United \n",
      "States declined 0.8 percent \n",
      "between the 2021 ACS and 2022 \n",
      "ACS.7 Figure 1 shows a historical \n",
      "series of median household income \n",
      "back to 2005.\n",
      "New Jersey and Maryland had the \n",
      "highest median household incomes \n",
      "of all states ($96,346 and $94,991, \n",
      "respectively); there was no statisti -\n",
      "cal difference between the two. \n",
      "⁷ “Real” refers to income after adjusting \n",
      "for inflation.The District of Columbia’s median \n",
      "household income ($101,027) \n",
      "was the highest in the nation. \n",
      "Mississippi had the lowest median \n",
      "household income ($52,719) of any \n",
      "state. Puerto Rico’s median house -\n",
      "hold income in 2022 was $24,112 \n",
      "(Table 1 and Figure 2). Median \n",
      "household income was lower than \n",
      "the U.S. median in 30 states and \n",
      "Puerto Rico. It was higher than the \n",
      "U.S. median in 17 states and the \n",
      "District of Columbia. The medians \n",
      "for Arizona, Oregon, and Vermont were not statistically different from \n",
      "the U.S. median.\n"
     ]
    }
   ],
   "source": [
    "# Query using similarity search\n",
    "\n",
    "query = \"Say something about household median income of New Jersey\"\n",
    "relevant_documents = vectorstore.similarity_search(query)\n",
    "print(relevant_documents[0].page_content)"
   ]
  },
  {
   "cell_type": "code",
   "execution_count": 46,
   "metadata": {},
   "outputs": [
    {
     "name": "stdout",
     "output_type": "stream",
     "text": [
      "tags=['FAISS', 'HuggingFaceBgeEmbeddings'] vectorstore=<langchain_community.vectorstores.faiss.FAISS object at 0x000001A8D1B4C5D0> search_kwargs={'k': 1}\n"
     ]
    }
   ],
   "source": [
    "# create the retriever\n",
    "retriever = vectorstore.as_retriever(search_type = \"similarity\", search_kwargs = {\"k\": 1})\n",
    "print(retriever)"
   ]
  },
  {
   "cell_type": "code",
   "execution_count": 85,
   "metadata": {},
   "outputs": [],
   "source": [
    "# Build the LLM\n",
    "hf = HuggingFaceHub(\n",
    "    repo_id = \"mistralai/Mistral-7B-v0.1\",\n",
    "    model_kwargs = {\"temperature\":0.001, \"max_length\" : 500}\n",
    ")\n",
    "\n",
    "query = \"What is the household median income of District of Columbia\"\n",
    "response = hf.invoke(query)"
   ]
  },
  {
   "cell_type": "code",
   "execution_count": 86,
   "metadata": {},
   "outputs": [
    {
     "name": "stdout",
     "output_type": "stream",
     "text": [
      "What is the household median income of District of Columbia?\n",
      "\n",
      "The median income in District of Columbia is $100,000, and the median house value is $500,000.\n",
      "\n",
      "What is the average income in Washington DC?\n",
      "\n",
      "The average income in Washington DC is $100,000.\n",
      "\n",
      "What is the average income in DC?\n",
      "\n",
      "The average income in DC is $100,000.\n",
      "\n",
      "What is the average income in DC\n"
     ]
    }
   ],
   "source": [
    "print(response)"
   ]
  },
  {
   "cell_type": "code",
   "execution_count": 87,
   "metadata": {},
   "outputs": [
    {
     "data": {
      "text/plain": [
       "'What is the household median income of District of Columbia residents?\\n\\nThe median household income of District of Columbia residents is $46,000.\\n\\nThe median household income of District of Columbia residents is $46,000 higher than the median household income of the District of Columbia.\\n\\nThe median household income of District of Columbia residents is $46,000 higher than the median household income of the District of Columbia.\\n\\nThe median household income of District of Columbia residents is $46,000 higher than the median household income of the District of Columbia.\\n\\nThe median household income of District of Columbia residents is $46,000 higher than the median household income of the District of Columbia.\\n\\nThe median household income of District of Columbia residents is $46,000 higher than the median household income of the District of Columbia.\\n\\nThe median household income of District of Columbia residents is $46,000 higher than the median household income of the District of Columbia.\\n\\nThe median household income of District of Columbia residents is $46,000 higher than the median household income of the District of Columbia.\\n\\nThe median household income of District of Columbia residents is $46,000 higher than the median household income of the District of Columbia.\\n\\nThe median household income of District of Columbia residents is $46,000 higher than the median household income of the District of Columbia.\\n\\nThe median household income of District of Columbia residents is $46,000 higher than the median household income of the District of Columbia.\\n'"
      ]
     },
     "execution_count": 87,
     "metadata": {},
     "output_type": "execute_result"
    }
   ],
   "source": [
    "\n",
    "hf = HuggingFacePipeline.from_model_id(\n",
    "    model_id=\"openai-community/gpt2\",\n",
    "    task=\"text-generation\",\n",
    "    pipeline_kwargs={\"temperature\": 0.1, \"max_new_tokens\": 300},\n",
    ")\n",
    "\n",
    "llm = hf \n",
    "llm.invoke(query)"
   ]
  },
  {
   "cell_type": "code",
   "execution_count": 88,
   "metadata": {},
   "outputs": [],
   "source": [
    "prompt_template=\"\"\"\n",
    "Use the following piece of context to answer the question asked.\n",
    "Please try to provide the answer only based on the context\n",
    "\n",
    "{context}\n",
    "Question:{question}\n",
    "\n",
    "Helpful Answers:\n",
    " \"\"\""
   ]
  },
  {
   "cell_type": "code",
   "execution_count": 89,
   "metadata": {},
   "outputs": [],
   "source": [
    "prompt=PromptTemplate(template=prompt_template,input_variables=[\"context\",\"question\"])"
   ]
  },
  {
   "cell_type": "code",
   "execution_count": 91,
   "metadata": {},
   "outputs": [],
   "source": [
    "retrievalQA=RetrievalQA.from_chain_type(\n",
    "    llm=hf,\n",
    "    chain_type=\"stuff\",\n",
    "    retriever=retriever,\n",
    "    return_source_documents=True,\n",
    "    chain_type_kwargs={\"prompt\":prompt}\n",
    ")"
   ]
  },
  {
   "cell_type": "code",
   "execution_count": 92,
   "metadata": {},
   "outputs": [],
   "source": [
    "query=\"\"\"DIFFERENCES IN THE\n",
    "UNINSURED RATE BY STATE\n",
    "IN 2022\"\"\""
   ]
  },
  {
   "cell_type": "code",
   "execution_count": 93,
   "metadata": {},
   "outputs": [
    {
     "name": "stdout",
     "output_type": "stream",
     "text": [
      "\n",
      "Use the following piece of context to answer the question asked.\n",
      "Please try to provide the answer only based on the context\n",
      "\n",
      "comparison of ACS and CPS ASEC measures \n",
      "of health insurance coverage, refer to < www.\n",
      "census.gov/topics/health/health-insurance/\n",
      "guidance.html >.\n",
      "9 Respondents may have more than one \n",
      "health insurance coverage type at the time \n",
      "of interview. As a result, adding the total \n",
      "number of people with private coverage and \n",
      "the total number with public coverage will \n",
      "sum to more than the total number with any \n",
      "coverage.• From 2021 to 2022, nine states \n",
      "reported increases in private \n",
      "coverage, while seven reported \n",
      "decreases (Appendix Table B-2). \n",
      "DIFFERENCES IN THE \n",
      "UNINSURED RATE BY STATE \n",
      "IN 2022\n",
      "In 2022, uninsured rates at the \n",
      "time of interview ranged across \n",
      "states from a low of 2.4 percent \n",
      "in Massachusetts to a high of 16.6 \n",
      "percent in Texas, compared to the \n",
      "national rate of 8.0 percent.10 Ten \n",
      "of the 15 states with uninsured \n",
      "10 The uninsured rates in the District \n",
      "of Columbia and Massachusetts were not \n",
      "statistically different.rates above the national aver -\n",
      "Question:DIFFERENCES IN THE\n",
      "UNINSURED RATE BY STATE\n",
      "IN 2022\n",
      "\n",
      "Helpful Answers:\n",
      " \n",
      "1. The national rate of uninsured \n",
      "\n",
      "was 1.4 percent in the District of Columbia and\n",
      "\n",
      "1.4 percent in Massachusetts.\n",
      "\n",
      "2. The national rate of uninsured \n",
      "\n",
      "was 1.4 percent in the District of Columbia and\n",
      "\n",
      "1.4 percent in Massachusetts.\n",
      "\n",
      "3. The national rate of uninsured \n",
      "\n",
      "was 1.4 percent in the District of Columbia and\n",
      "\n",
      "1.4 percent in Massachusetts.\n",
      "\n",
      "4. The national rate of uninsured \n",
      "\n",
      "was 1.4 percent in the District of Columbia and\n",
      "\n",
      "1.4 percent in Massachusetts.\n",
      "\n",
      "5. The national rate of uninsured \n",
      "\n",
      "was 1.4 percent in the District of Columbia and\n",
      "\n",
      "1.4 percent in Massachusetts.\n",
      "\n",
      "6. The national rate of uninsured \n",
      "\n",
      "was 1.4 percent in the District of Columbia and\n",
      "\n",
      "1.4 percent in Massachusetts.\n",
      "\n",
      "7. The national rate of uninsured \n",
      "\n",
      "was 1.4 percent in the District of Columbia and\n",
      "\n",
      "1.4 percent in Massachusetts.\n",
      "\n",
      "8. The national rate of uninsured \n",
      "\n",
      "was 1.4 percent in the District of Columbia and\n",
      "\n",
      "1.4 percent in Massachusetts.\n",
      "\n",
      "9. The national rate of uninsured \n",
      "\n",
      "was 1.4 percent in the District of Columbia and\n",
      "\n",
      "1.4 percent in Massachusetts.\n",
      "\n",
      "10. The national rate of uninsured \n",
      "\n",
      "was\n"
     ]
    }
   ],
   "source": [
    "# Call the QA chain with our query.\n",
    "result = retrievalQA.invoke({\"query\": query})\n",
    "print(result['result'])"
   ]
  },
  {
   "cell_type": "code",
   "execution_count": null,
   "metadata": {},
   "outputs": [],
   "source": []
  }
 ],
 "metadata": {
  "kernelspec": {
   "display_name": "langchain",
   "language": "python",
   "name": "python3"
  },
  "language_info": {
   "codemirror_mode": {
    "name": "ipython",
    "version": 3
   },
   "file_extension": ".py",
   "mimetype": "text/x-python",
   "name": "python",
   "nbconvert_exporter": "python",
   "pygments_lexer": "ipython3",
   "version": "3.11.9"
  }
 },
 "nbformat": 4,
 "nbformat_minor": 2
}
